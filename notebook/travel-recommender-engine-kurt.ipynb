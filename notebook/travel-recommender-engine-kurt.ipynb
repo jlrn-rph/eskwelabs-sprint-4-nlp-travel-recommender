{
  "cells": [
    {
      "cell_type": "markdown",
      "id": "afb0589c-f93b-481b-a4a5-bbdcd986a5e4",
      "metadata": {
        "id": "afb0589c-f93b-481b-a4a5-bbdcd986a5e4"
      },
      "source": [
        "## Recommender Engine ##"
      ]
    },
    {
      "cell_type": "markdown",
      "id": "d6bf65f6-2a8f-4cb3-ba4f-6fee7eabf748",
      "metadata": {
        "id": "d6bf65f6-2a8f-4cb3-ba4f-6fee7eabf748"
      },
      "source": [
        "**Import Libraries**"
      ]
    },
    {
      "cell_type": "code",
      "execution_count": null,
      "id": "f91dd0ee-a8ea-45c3-bca0-1ecf91722cfb",
      "metadata": {
        "id": "f91dd0ee-a8ea-45c3-bca0-1ecf91722cfb"
      },
      "outputs": [],
      "source": [
        "import spacy\n",
        "import pandas as pd\n",
        "import re\n",
        "from decimal import Decimal\n",
        "import numpy as np\n",
        "import nltk\n",
        "from nltk import word_tokenize, pos_tag\n",
        "from nltk.corpus import stopwords\n",
        "import inspect\n",
        "from spacy import displacy"
      ]
    },
    {
      "cell_type": "code",
      "execution_count": null,
      "id": "2ef5b823-7e9e-430b-9633-4149227ae2ea",
      "metadata": {
        "id": "2ef5b823-7e9e-430b-9633-4149227ae2ea"
      },
      "outputs": [],
      "source": [
        "# Load spaCy model\n",
        "nlp = spacy.load(\"en_core_web_lg\")"
      ]
    },
    {
      "cell_type": "markdown",
      "id": "c42e5551-f7a6-4d88-bb99-0b97a7303911",
      "metadata": {
        "id": "c42e5551-f7a6-4d88-bb99-0b97a7303911"
      },
      "source": [
        "**Import Combined Dataset & Reformat Data**"
      ]
    },
    {
      "cell_type": "code",
      "execution_count": null,
      "id": "621c9ac5-6150-4161-88cd-899d4a7fa69c",
      "metadata": {
        "id": "621c9ac5-6150-4161-88cd-899d4a7fa69c",
        "outputId": "5878cb74-0ec6-40fd-d254-10ad57d0bbcc"
      },
      "outputs": [
        {
          "data": {
            "text/html": [
              "<div>\n",
              "<style scoped>\n",
              "    .dataframe tbody tr th:only-of-type {\n",
              "        vertical-align: middle;\n",
              "    }\n",
              "\n",
              "    .dataframe tbody tr th {\n",
              "        vertical-align: top;\n",
              "    }\n",
              "\n",
              "    .dataframe thead th {\n",
              "        text-align: right;\n",
              "    }\n",
              "</style>\n",
              "<table border=\"1\" class=\"dataframe\">\n",
              "  <thead>\n",
              "    <tr style=\"text-align: right;\">\n",
              "      <th></th>\n",
              "      <th>region</th>\n",
              "      <th>location</th>\n",
              "      <th>activity</th>\n",
              "      <th>title</th>\n",
              "      <th>description</th>\n",
              "      <th>price</th>\n",
              "      <th>rating</th>\n",
              "      <th>review_count</th>\n",
              "      <th>duration</th>\n",
              "      <th>url</th>\n",
              "      <th>description_clean</th>\n",
              "      <th>general</th>\n",
              "    </tr>\n",
              "  </thead>\n",
              "  <tbody>\n",
              "    <tr>\n",
              "      <th>0</th>\n",
              "      <td>Luzon</td>\n",
              "      <td>Palawan</td>\n",
              "      <td>Day Trips</td>\n",
              "      <td>Underground River Day Trips from Puerto Prince...</td>\n",
              "      <td>Discover Puerto Princesa Subterranean River Na...</td>\n",
              "      <td>2820.81</td>\n",
              "      <td>4.5</td>\n",
              "      <td>104</td>\n",
              "      <td>6.0</td>\n",
              "      <td>https://www.tripadvisor.com.ph/AttractionProdu...</td>\n",
              "      <td>Discover Puerto Princesa Subterranean River Na...</td>\n",
              "      <td>Tours</td>\n",
              "    </tr>\n",
              "    <tr>\n",
              "      <th>1</th>\n",
              "      <td>Visayas</td>\n",
              "      <td>Cebu</td>\n",
              "      <td>Snorkeling</td>\n",
              "      <td>Whale Shark Encounter and Sumilon Sandbar with...</td>\n",
              "      <td>An amazing experience. It was a very long day,...</td>\n",
              "      <td>8922.98</td>\n",
              "      <td>4.5</td>\n",
              "      <td>83</td>\n",
              "      <td>6.0</td>\n",
              "      <td>https://www.tripadvisor.com.ph/AttractionProdu...</td>\n",
              "      <td>amazing experience long day 330am pickup 2hr h...</td>\n",
              "      <td>Water Activities</td>\n",
              "    </tr>\n",
              "    <tr>\n",
              "      <th>2</th>\n",
              "      <td>Luzon</td>\n",
              "      <td>Metro Manila</td>\n",
              "      <td>Day Trips</td>\n",
              "      <td>Amazing Manila - Tagaytay Full Day Sightseeing...</td>\n",
              "      <td>Thanks again to the amazing staff Sean (Lead T...</td>\n",
              "      <td>7483.79</td>\n",
              "      <td>5.0</td>\n",
              "      <td>47</td>\n",
              "      <td>7.0</td>\n",
              "      <td>https://www.tripadvisor.com.ph/AttractionProdu...</td>\n",
              "      <td>Thanks amazing staff Sean Lead Tour Guide Dan ...</td>\n",
              "      <td>Tours</td>\n",
              "    </tr>\n",
              "    <tr>\n",
              "      <th>3</th>\n",
              "      <td>Luzon</td>\n",
              "      <td>Palawan</td>\n",
              "      <td>Ziplining</td>\n",
              "      <td>3-in-1 Adventure: Underground River, Zipline r...</td>\n",
              "      <td>Get the most out of your trip to the world-fam...</td>\n",
              "      <td>4029.73</td>\n",
              "      <td>4.5</td>\n",
              "      <td>9</td>\n",
              "      <td>8.0</td>\n",
              "      <td>https://www.tripadvisor.com.ph/AttractionProdu...</td>\n",
              "      <td>Get trip worldfamous Underground River booking...</td>\n",
              "      <td>Outdoor Activities</td>\n",
              "    </tr>\n",
              "    <tr>\n",
              "      <th>4</th>\n",
              "      <td>Luzon</td>\n",
              "      <td>Palawan</td>\n",
              "      <td>Day Trips</td>\n",
              "      <td>El Nido Island Hopping Day Tour from Puerto Pr...</td>\n",
              "      <td>Enjoy an island hopping experience in El Nido ...</td>\n",
              "      <td>11455.96</td>\n",
              "      <td>5.0</td>\n",
              "      <td>1</td>\n",
              "      <td>18.0</td>\n",
              "      <td>https://www.tripadvisor.com.ph/AttractionProdu...</td>\n",
              "      <td>Enjoy island hopping experience El Nido even h...</td>\n",
              "      <td>Tours</td>\n",
              "    </tr>\n",
              "  </tbody>\n",
              "</table>\n",
              "</div>"
            ],
            "text/plain": [
              "    region      location    activity   \n",
              "0    Luzon       Palawan   Day Trips  \\\n",
              "1  Visayas          Cebu  Snorkeling   \n",
              "2    Luzon  Metro Manila   Day Trips   \n",
              "3    Luzon       Palawan   Ziplining   \n",
              "4    Luzon       Palawan   Day Trips   \n",
              "\n",
              "                                               title   \n",
              "0  Underground River Day Trips from Puerto Prince...  \\\n",
              "1  Whale Shark Encounter and Sumilon Sandbar with...   \n",
              "2  Amazing Manila - Tagaytay Full Day Sightseeing...   \n",
              "3  3-in-1 Adventure: Underground River, Zipline r...   \n",
              "4  El Nido Island Hopping Day Tour from Puerto Pr...   \n",
              "\n",
              "                                         description     price  rating   \n",
              "0  Discover Puerto Princesa Subterranean River Na...   2820.81     4.5  \\\n",
              "1  An amazing experience. It was a very long day,...   8922.98     4.5   \n",
              "2  Thanks again to the amazing staff Sean (Lead T...   7483.79     5.0   \n",
              "3  Get the most out of your trip to the world-fam...   4029.73     4.5   \n",
              "4  Enjoy an island hopping experience in El Nido ...  11455.96     5.0   \n",
              "\n",
              "  review_count  duration                                                url   \n",
              "0          104       6.0  https://www.tripadvisor.com.ph/AttractionProdu...  \\\n",
              "1           83       6.0  https://www.tripadvisor.com.ph/AttractionProdu...   \n",
              "2           47       7.0  https://www.tripadvisor.com.ph/AttractionProdu...   \n",
              "3            9       8.0  https://www.tripadvisor.com.ph/AttractionProdu...   \n",
              "4            1      18.0  https://www.tripadvisor.com.ph/AttractionProdu...   \n",
              "\n",
              "                                   description_clean             general  \n",
              "0  Discover Puerto Princesa Subterranean River Na...               Tours  \n",
              "1  amazing experience long day 330am pickup 2hr h...    Water Activities  \n",
              "2  Thanks amazing staff Sean Lead Tour Guide Dan ...               Tours  \n",
              "3  Get trip worldfamous Underground River booking...  Outdoor Activities  \n",
              "4  Enjoy island hopping experience El Nido even h...               Tours  "
            ]
          },
          "execution_count": 21,
          "metadata": {},
          "output_type": "execute_result"
        }
      ],
      "source": [
        "df = pd.read_csv('combined_data.csv', encoding=\"ISO-8859-1\")\n",
        "df = df.drop(df.columns[0], axis=1)\n",
        "df.head()"
      ]
    },
    {
      "cell_type": "markdown",
      "id": "cfa3466c-15e1-481f-9813-70d423c65c8f",
      "metadata": {
        "id": "cfa3466c-15e1-481f-9813-70d423c65c8f"
      },
      "source": [
        "<br>\n",
        "<br>\n",
        "\n",
        "*Convert descriptions to string type*"
      ]
    },
    {
      "cell_type": "code",
      "execution_count": null,
      "id": "6bae03e4-904f-493d-9169-4c36c90d7982",
      "metadata": {
        "id": "6bae03e4-904f-493d-9169-4c36c90d7982"
      },
      "outputs": [],
      "source": [
        "df['description'] = df['description'].astype(str)\n",
        "df['description_clean'] = df['description_clean'].astype(str)"
      ]
    },
    {
      "cell_type": "markdown",
      "id": "87784478-3fc0-4d99-82c3-77da9c7e3742",
      "metadata": {
        "id": "87784478-3fc0-4d99-82c3-77da9c7e3742"
      },
      "source": [
        "<br>\n",
        "\n",
        "*Clean descriptions*"
      ]
    },
    {
      "cell_type": "code",
      "execution_count": null,
      "id": "8e990781-9b27-493f-936d-8966f30ee9d7",
      "metadata": {
        "id": "8e990781-9b27-493f-936d-8966f30ee9d7",
        "outputId": "26207c20-770f-46ec-e691-2f49e3ece8f8"
      },
      "outputs": [
        {
          "data": {
            "text/plain": [
              "0    Discover Puerto Princesa Subterranean River Na...\n",
              "1    An amazing experience. It was a very long day,...\n",
              "2    Thanks again to the amazing staff Sean (Lead T...\n",
              "3    Get the most out of your trip to the world-fam...\n",
              "4    Enjoy an island hopping experience in El Nido ...\n",
              "Name: description_clean, dtype: object"
            ]
          },
          "execution_count": 23,
          "metadata": {},
          "output_type": "execute_result"
        }
      ],
      "source": [
        "df['description_clean'] = df['description'].str.replace('See more', '')\n",
        "df['description_clean'].head()"
      ]
    },
    {
      "cell_type": "markdown",
      "id": "23971495-a6a3-4c66-938e-5ac22cfee6c8",
      "metadata": {
        "id": "23971495-a6a3-4c66-938e-5ac22cfee6c8"
      },
      "source": [
        "<br>\n",
        "\n",
        "*Remove punctuations and stop words*"
      ]
    },
    {
      "cell_type": "code",
      "execution_count": null,
      "id": "76d24818-66ce-47d8-b5f4-e133e1c8a906",
      "metadata": {
        "id": "76d24818-66ce-47d8-b5f4-e133e1c8a906",
        "outputId": "d0948daf-1857-4a2d-f8f6-2f78b36d401a"
      },
      "outputs": [
        {
          "name": "stderr",
          "output_type": "stream",
          "text": [
            "[nltk_data] Downloading package stopwords to\n",
            "[nltk_data]     C:\\Users\\User\\AppData\\Roaming\\nltk_data...\n",
            "[nltk_data]   Package stopwords is already up-to-date!\n"
          ]
        },
        {
          "data": {
            "text/plain": [
              "0    Discover Puerto Princesa Subterranean River Na...\n",
              "1    amazing experience long day 330am pickup 2hr h...\n",
              "2    Thanks amazing staff Sean Lead Tour Guide Dan ...\n",
              "3    Get trip worldfamous Underground River booking...\n",
              "4    Enjoy island hopping experience El Nido even h...\n",
              "Name: description_clean, dtype: object"
            ]
          },
          "execution_count": 24,
          "metadata": {},
          "output_type": "execute_result"
        }
      ],
      "source": [
        "import string\n",
        "\n",
        "# Download the NLTK stopwords corpus (only required once)\n",
        "nltk.download('stopwords')\n",
        "\n",
        "# Get the set of English stopwords\n",
        "stopwords_set = set(stopwords.words('english'))\n",
        "\n",
        "# Function to remove stopwords and punctuation from a text\n",
        "def remove_stopwords_punctuation(text):\n",
        "    # Remove punctuation\n",
        "    text = text.translate(str.maketrans('', '', string.punctuation))\n",
        "    \n",
        "    # Tokenize the text\n",
        "    tokens = nltk.word_tokenize(text)\n",
        "    \n",
        "    # Remove stopwords\n",
        "    filtered_tokens = [token for token in tokens if token.lower() not in stopwords_set]\n",
        "    \n",
        "    # Join the filtered tokens back into a string\n",
        "    filtered_text = ' '.join(filtered_tokens)\n",
        "    \n",
        "    return filtered_text\n",
        "\n",
        "# Apply the function to the 'text_column' column\n",
        "df['description_clean'] = df['description'].apply(remove_stopwords_punctuation)\n",
        "\n",
        "df['description_clean'].head()"
      ]
    },
    {
      "cell_type": "markdown",
      "id": "e01bab2a-acbb-4d2f-8697-8bfa69f88955",
      "metadata": {
        "id": "e01bab2a-acbb-4d2f-8697-8bfa69f88955"
      },
      "source": [
        "<br>\n",
        "\n",
        "*Separate sentences with spaces*"
      ]
    },
    {
      "cell_type": "code",
      "execution_count": null,
      "id": "efcaa3ea-a2dd-4933-95de-20d889eee562",
      "metadata": {
        "id": "efcaa3ea-a2dd-4933-95de-20d889eee562",
        "outputId": "650ac7d3-ce66-43eb-98d7-c959be9337ee"
      },
      "outputs": [
        {
          "data": {
            "text/plain": [
              "0    Discover Puerto Princesa Subterranean River Na...\n",
              "1    An amazing experience. It was a very long day,...\n",
              "2    Thanks again to the amazing staff Sean (Lead T...\n",
              "3    Get the most out of your trip to the world-fam...\n",
              "4    Enjoy an island hopping experience in El Nido ...\n",
              "Name: description_clean, dtype: object"
            ]
          },
          "execution_count": 25,
          "metadata": {},
          "output_type": "execute_result"
        }
      ],
      "source": [
        "# Function to insert spaces before capital letters inside a word\n",
        "def insert_spaces(text):\n",
        "    # Use regular expression to find capital letters inside a word\n",
        "    modified_text = re.sub(r\"(\\w)([A-Z])\", r\"\\1 \\2\", text)\n",
        "    return modified_text\n",
        "\n",
        "# Apply the function to the 'text_column' column\n",
        "df['description_clean'] = df['description'].apply(insert_spaces)\n",
        "\n",
        "df['description_clean'].head()"
      ]
    },
    {
      "cell_type": "markdown",
      "id": "5ddf7332-3a38-4847-be86-6d9f1f523756",
      "metadata": {
        "id": "5ddf7332-3a38-4847-be86-6d9f1f523756"
      },
      "source": [
        "<br>\n",
        "\n",
        "*Remove unnecessary characters*"
      ]
    },
    {
      "cell_type": "code",
      "execution_count": null,
      "id": "7f9b3c43-d4bf-487f-ac12-51e93a763701",
      "metadata": {
        "id": "7f9b3c43-d4bf-487f-ac12-51e93a763701",
        "outputId": "f7c4b478-7eff-4a23-ec7f-092ef5452260"
      },
      "outputs": [
        {
          "data": {
            "text/plain": [
              "0       Discover Puerto Princesa Subterranean River Na...\n",
              "1       An amazing experience. It was a very long day,...\n",
              "2       Thanks again to the amazing staff Sean (Lead T...\n",
              "3       Get the most out of your trip to the world-fam...\n",
              "4       Enjoy an island hopping experience in El Nido ...\n",
              "                              ...                        \n",
              "1000    Donsol is best known for its whale watching wh...\n",
              "1001    Experience the New Zealand of Tanay Rizal and ...\n",
              "1002    Start your morning by hiking to Mt. Batolusong...\n",
              "1003    Enjoy this Ultimate Gigantes Islands All In Pa...\n",
              "1004    Experience camping in the sky only an hour awa...\n",
              "Name: description_clean, Length: 1005, dtype: object"
            ]
          },
          "execution_count": 26,
          "metadata": {},
          "output_type": "execute_result"
        }
      ],
      "source": [
        "df['description_clean'] = df['description_clean'].str.replace('[¯Â\\x7f]', '', regex=True)\n",
        "df['description_clean']"
      ]
    },
    {
      "cell_type": "markdown",
      "id": "51df5b0f-b0b0-471c-8df8-b862cb89b591",
      "metadata": {
        "id": "51df5b0f-b0b0-471c-8df8-b862cb89b591"
      },
      "source": [
        "<br>\n",
        "<br>\n",
        "\n",
        "**Create data frames based on generic activities**"
      ]
    },
    {
      "cell_type": "code",
      "execution_count": null,
      "id": "61b1dd4f-d9f6-49eb-b717-a63430004974",
      "metadata": {
        "id": "61b1dd4f-d9f6-49eb-b717-a63430004974",
        "outputId": "5e805c40-3706-4e72-f963-e299a354412e"
      },
      "outputs": [
        {
          "data": {
            "text/plain": [
              "array(['Tours', 'Water Activities', 'Outdoor Activities', 'Recreational'],\n",
              "      dtype=object)"
            ]
          },
          "execution_count": 27,
          "metadata": {},
          "output_type": "execute_result"
        }
      ],
      "source": [
        "unique_generic = df['general'].unique()\n",
        "unique_generic"
      ]
    },
    {
      "cell_type": "code",
      "execution_count": null,
      "id": "32059a7d-2e27-45ad-b774-2db40f9acb40",
      "metadata": {
        "id": "32059a7d-2e27-45ad-b774-2db40f9acb40",
        "outputId": "15057368-8ad1-4f39-e8eb-486f46214a89"
      },
      "outputs": [
        {
          "data": {
            "text/html": [
              "<div>\n",
              "<style scoped>\n",
              "    .dataframe tbody tr th:only-of-type {\n",
              "        vertical-align: middle;\n",
              "    }\n",
              "\n",
              "    .dataframe tbody tr th {\n",
              "        vertical-align: top;\n",
              "    }\n",
              "\n",
              "    .dataframe thead th {\n",
              "        text-align: right;\n",
              "    }\n",
              "</style>\n",
              "<table border=\"1\" class=\"dataframe\">\n",
              "  <thead>\n",
              "    <tr style=\"text-align: right;\">\n",
              "      <th></th>\n",
              "      <th>region</th>\n",
              "      <th>location</th>\n",
              "      <th>activity</th>\n",
              "      <th>title</th>\n",
              "      <th>description</th>\n",
              "      <th>price</th>\n",
              "      <th>rating</th>\n",
              "      <th>review_count</th>\n",
              "      <th>duration</th>\n",
              "      <th>url</th>\n",
              "      <th>description_clean</th>\n",
              "      <th>general</th>\n",
              "    </tr>\n",
              "  </thead>\n",
              "  <tbody>\n",
              "    <tr>\n",
              "      <th>95</th>\n",
              "      <td>Mindanao</td>\n",
              "      <td>Surigao del Norte</td>\n",
              "      <td>Boat Tours</td>\n",
              "      <td>Sugba Lagoon Tour and Magpupungko Rock Pools</td>\n",
              "      <td>We'll pick you from where you're staying in th...</td>\n",
              "      <td>3454.06</td>\n",
              "      <td>1.0</td>\n",
              "      <td>1</td>\n",
              "      <td>6.0</td>\n",
              "      <td>https://www.tripadvisor.com.ph/AttractionProdu...</td>\n",
              "      <td>We'll pick you from where you're staying in th...</td>\n",
              "      <td>Water Activities</td>\n",
              "    </tr>\n",
              "    <tr>\n",
              "      <th>337</th>\n",
              "      <td>Mindanao</td>\n",
              "      <td>Surigao del Norte</td>\n",
              "      <td>Boat Tours</td>\n",
              "      <td>Siargao Island Hopping</td>\n",
              "      <td>Overall, this was a well-organized Private tou...</td>\n",
              "      <td>3338.92</td>\n",
              "      <td>4.5</td>\n",
              "      <td>2</td>\n",
              "      <td>4.0</td>\n",
              "      <td>https://www.tripadvisor.com.ph/AttractionProdu...</td>\n",
              "      <td>Overall, this was a well-organized Private tou...</td>\n",
              "      <td>Water Activities</td>\n",
              "    </tr>\n",
              "    <tr>\n",
              "      <th>451</th>\n",
              "      <td>Mindanao</td>\n",
              "      <td>Surigao del Norte</td>\n",
              "      <td>surfing</td>\n",
              "      <td>Quality Surfing Lessons in Siargao Island</td>\n",
              "      <td>Highly recommend Ulap Siyam for anybody that w...</td>\n",
              "      <td>2590.54</td>\n",
              "      <td>5.0</td>\n",
              "      <td>7</td>\n",
              "      <td>1.0</td>\n",
              "      <td>https://www.tripadvisor.com.ph/AttractionProdu...</td>\n",
              "      <td>Highly recommend Ulap Siyam for anybody that w...</td>\n",
              "      <td>Water Activities</td>\n",
              "    </tr>\n",
              "    <tr>\n",
              "      <th>474</th>\n",
              "      <td>Mindanao</td>\n",
              "      <td>Surigao del Norte</td>\n",
              "      <td>Boat Tours</td>\n",
              "      <td>Siargao Island Hopping &amp; land Tour</td>\n",
              "      <td>The tri island tour is one of the best things ...</td>\n",
              "      <td>6159.74</td>\n",
              "      <td>4.5</td>\n",
              "      <td>4</td>\n",
              "      <td>8.0</td>\n",
              "      <td>https://www.tripadvisor.com.ph/AttractionProdu...</td>\n",
              "      <td>The tri island tour is one of the best things ...</td>\n",
              "      <td>Water Activities</td>\n",
              "    </tr>\n",
              "    <tr>\n",
              "      <th>725</th>\n",
              "      <td>Mindanao</td>\n",
              "      <td>Surigao del Norte</td>\n",
              "      <td>Boat Tours</td>\n",
              "      <td>Siargao 3 Island hopping + Corregidor Island</td>\n",
              "      <td>You will experience the crystal clear water su...</td>\n",
              "      <td>5346.02</td>\n",
              "      <td>4.5</td>\n",
              "      <td>8</td>\n",
              "      <td>7.0</td>\n",
              "      <td>https://www.tripadvisor.com.ph/AttractionProdu...</td>\n",
              "      <td>You will experience the crystal clear water su...</td>\n",
              "      <td>Water Activities</td>\n",
              "    </tr>\n",
              "    <tr>\n",
              "      <th>736</th>\n",
              "      <td>Mindanao</td>\n",
              "      <td>Surigao del Norte</td>\n",
              "      <td>Boat Tours</td>\n",
              "      <td>Siargao 3 Island hopping + Mam On Island</td>\n",
              "      <td>nan</td>\n",
              "      <td>5001.12</td>\n",
              "      <td>4.5</td>\n",
              "      <td>8</td>\n",
              "      <td>7.0</td>\n",
              "      <td>https://www.tripadvisor.com.ph/AttractionProdu...</td>\n",
              "      <td>nan</td>\n",
              "      <td>Water Activities</td>\n",
              "    </tr>\n",
              "    <tr>\n",
              "      <th>858</th>\n",
              "      <td>Mindanao</td>\n",
              "      <td>Siargao</td>\n",
              "      <td>Boat Tours</td>\n",
              "      <td>Tri Island Tour in Siargao</td>\n",
              "      <td>Go on a tri-island day trip in Siargao and exp...</td>\n",
              "      <td>1450.00</td>\n",
              "      <td>4.3</td>\n",
              "      <td>396</td>\n",
              "      <td>24.0</td>\n",
              "      <td>https://www.klook.com/en-PH/activity/27656-dak...</td>\n",
              "      <td>Go on a tri-island day trip in Siargao and exp...</td>\n",
              "      <td>Water Activities</td>\n",
              "    </tr>\n",
              "    <tr>\n",
              "      <th>953</th>\n",
              "      <td>Mindanao</td>\n",
              "      <td>Siargao</td>\n",
              "      <td>Surfing</td>\n",
              "      <td>Siargao Surfing Lessons</td>\n",
              "      <td>SIARGAO is the top surfing spot in the Philipp...</td>\n",
              "      <td>700.00</td>\n",
              "      <td>4.5</td>\n",
              "      <td>4</td>\n",
              "      <td>1.0</td>\n",
              "      <td>https://www.klook.com/en-PH/activity/76411-sia...</td>\n",
              "      <td>S IA RG AO is the top surfing spot in the Phil...</td>\n",
              "      <td>Water Activities</td>\n",
              "    </tr>\n",
              "    <tr>\n",
              "      <th>954</th>\n",
              "      <td>Mindanao</td>\n",
              "      <td>Siargao</td>\n",
              "      <td>Surfing</td>\n",
              "      <td>Siargao Surfing Lessons</td>\n",
              "      <td>SIARGAO is the top surfing spot in the Philipp...</td>\n",
              "      <td>700.00</td>\n",
              "      <td>4.5</td>\n",
              "      <td>4</td>\n",
              "      <td>1.0</td>\n",
              "      <td>https://www.klook.com/en-PH/activity/76411-sia...</td>\n",
              "      <td>S IA RG AO is the top surfing spot in the Phil...</td>\n",
              "      <td>Water Activities</td>\n",
              "    </tr>\n",
              "  </tbody>\n",
              "</table>\n",
              "</div>"
            ],
            "text/plain": [
              "       region           location    activity   \n",
              "95   Mindanao  Surigao del Norte  Boat Tours  \\\n",
              "337  Mindanao  Surigao del Norte  Boat Tours   \n",
              "451  Mindanao  Surigao del Norte     surfing   \n",
              "474  Mindanao  Surigao del Norte  Boat Tours   \n",
              "725  Mindanao  Surigao del Norte  Boat Tours   \n",
              "736  Mindanao  Surigao del Norte  Boat Tours   \n",
              "858  Mindanao            Siargao  Boat Tours   \n",
              "953  Mindanao            Siargao     Surfing   \n",
              "954  Mindanao            Siargao     Surfing   \n",
              "\n",
              "                                            title   \n",
              "95   Sugba Lagoon Tour and Magpupungko Rock Pools  \\\n",
              "337                        Siargao Island Hopping   \n",
              "451     Quality Surfing Lessons in Siargao Island   \n",
              "474            Siargao Island Hopping & land Tour   \n",
              "725  Siargao 3 Island hopping + Corregidor Island   \n",
              "736      Siargao 3 Island hopping + Mam On Island   \n",
              "858                    Tri Island Tour in Siargao   \n",
              "953                       Siargao Surfing Lessons   \n",
              "954                       Siargao Surfing Lessons   \n",
              "\n",
              "                                           description    price  rating   \n",
              "95   We'll pick you from where you're staying in th...  3454.06     1.0  \\\n",
              "337  Overall, this was a well-organized Private tou...  3338.92     4.5   \n",
              "451  Highly recommend Ulap Siyam for anybody that w...  2590.54     5.0   \n",
              "474  The tri island tour is one of the best things ...  6159.74     4.5   \n",
              "725  You will experience the crystal clear water su...  5346.02     4.5   \n",
              "736                                                nan  5001.12     4.5   \n",
              "858  Go on a tri-island day trip in Siargao and exp...  1450.00     4.3   \n",
              "953  SIARGAO is the top surfing spot in the Philipp...   700.00     4.5   \n",
              "954  SIARGAO is the top surfing spot in the Philipp...   700.00     4.5   \n",
              "\n",
              "    review_count  duration                                                url   \n",
              "95             1       6.0  https://www.tripadvisor.com.ph/AttractionProdu...  \\\n",
              "337            2       4.0  https://www.tripadvisor.com.ph/AttractionProdu...   \n",
              "451            7       1.0  https://www.tripadvisor.com.ph/AttractionProdu...   \n",
              "474            4       8.0  https://www.tripadvisor.com.ph/AttractionProdu...   \n",
              "725            8       7.0  https://www.tripadvisor.com.ph/AttractionProdu...   \n",
              "736            8       7.0  https://www.tripadvisor.com.ph/AttractionProdu...   \n",
              "858          396      24.0  https://www.klook.com/en-PH/activity/27656-dak...   \n",
              "953            4       1.0  https://www.klook.com/en-PH/activity/76411-sia...   \n",
              "954            4       1.0  https://www.klook.com/en-PH/activity/76411-sia...   \n",
              "\n",
              "                                     description_clean           general  \n",
              "95   We'll pick you from where you're staying in th...  Water Activities  \n",
              "337  Overall, this was a well-organized Private tou...  Water Activities  \n",
              "451  Highly recommend Ulap Siyam for anybody that w...  Water Activities  \n",
              "474  The tri island tour is one of the best things ...  Water Activities  \n",
              "725  You will experience the crystal clear water su...  Water Activities  \n",
              "736                                                nan  Water Activities  \n",
              "858  Go on a tri-island day trip in Siargao and exp...  Water Activities  \n",
              "953  S IA RG AO is the top surfing spot in the Phil...  Water Activities  \n",
              "954  S IA RG AO is the top surfing spot in the Phil...  Water Activities  "
            ]
          },
          "execution_count": 28,
          "metadata": {},
          "output_type": "execute_result"
        }
      ],
      "source": [
        "tours_df = df[(df['general'] == 'Tours') & (df['region'] == 'Mindanao')]\n",
        "\n",
        "water_df = df[(df['general'] == 'Water Activities') & (df['region'] == 'Mindanao')]\n",
        "\n",
        "outdoor_df = df[(df['general'] == 'Outdoor Activities') & (df['region'] == 'Mindanao')]\n",
        "\n",
        "rec_df = df[(df['general'] == 'Recreational') & (df['region'] == 'Mindanao')]\n",
        "\n",
        "water_df"
      ]
    },
    {
      "cell_type": "markdown",
      "id": "6b8e051f-01b2-41bd-9d09-bb9973b29438",
      "metadata": {
        "id": "6b8e051f-01b2-41bd-9d09-bb9973b29438"
      },
      "source": [
        "<br>\n",
        "\n",
        "**Get dataframe for Luzon & Visayas**"
      ]
    },
    {
      "cell_type": "code",
      "execution_count": null,
      "id": "240c003e-8467-451e-973c-c1aa02ed8064",
      "metadata": {
        "id": "240c003e-8467-451e-973c-c1aa02ed8064",
        "outputId": "975ece46-f2f5-4e8b-f8a2-c42c37a858b1"
      },
      "outputs": [
        {
          "name": "stdout",
          "output_type": "stream",
          "text": [
            "(971, 12)\n"
          ]
        },
        {
          "data": {
            "text/html": [
              "<div>\n",
              "<style scoped>\n",
              "    .dataframe tbody tr th:only-of-type {\n",
              "        vertical-align: middle;\n",
              "    }\n",
              "\n",
              "    .dataframe tbody tr th {\n",
              "        vertical-align: top;\n",
              "    }\n",
              "\n",
              "    .dataframe thead th {\n",
              "        text-align: right;\n",
              "    }\n",
              "</style>\n",
              "<table border=\"1\" class=\"dataframe\">\n",
              "  <thead>\n",
              "    <tr style=\"text-align: right;\">\n",
              "      <th></th>\n",
              "      <th>region</th>\n",
              "      <th>location</th>\n",
              "      <th>activity</th>\n",
              "      <th>title</th>\n",
              "      <th>description</th>\n",
              "      <th>price</th>\n",
              "      <th>rating</th>\n",
              "      <th>review_count</th>\n",
              "      <th>duration</th>\n",
              "      <th>url</th>\n",
              "      <th>description_clean</th>\n",
              "      <th>general</th>\n",
              "    </tr>\n",
              "  </thead>\n",
              "  <tbody>\n",
              "    <tr>\n",
              "      <th>0</th>\n",
              "      <td>Luzon</td>\n",
              "      <td>Palawan</td>\n",
              "      <td>Day Trips</td>\n",
              "      <td>Underground River Day Trips from Puerto Prince...</td>\n",
              "      <td>Discover Puerto Princesa Subterranean River Na...</td>\n",
              "      <td>2820.81</td>\n",
              "      <td>4.5</td>\n",
              "      <td>104</td>\n",
              "      <td>6.0</td>\n",
              "      <td>https://www.tripadvisor.com.ph/AttractionProdu...</td>\n",
              "      <td>Discover Puerto Princesa Subterranean River Na...</td>\n",
              "      <td>Tours</td>\n",
              "    </tr>\n",
              "    <tr>\n",
              "      <th>1</th>\n",
              "      <td>Visayas</td>\n",
              "      <td>Cebu</td>\n",
              "      <td>Snorkeling</td>\n",
              "      <td>Whale Shark Encounter and Sumilon Sandbar with...</td>\n",
              "      <td>An amazing experience. It was a very long day,...</td>\n",
              "      <td>8922.98</td>\n",
              "      <td>4.5</td>\n",
              "      <td>83</td>\n",
              "      <td>6.0</td>\n",
              "      <td>https://www.tripadvisor.com.ph/AttractionProdu...</td>\n",
              "      <td>An amazing experience. It was a very long day,...</td>\n",
              "      <td>Water Activities</td>\n",
              "    </tr>\n",
              "    <tr>\n",
              "      <th>2</th>\n",
              "      <td>Luzon</td>\n",
              "      <td>Metro Manila</td>\n",
              "      <td>Day Trips</td>\n",
              "      <td>Amazing Manila - Tagaytay Full Day Sightseeing...</td>\n",
              "      <td>Thanks again to the amazing staff Sean (Lead T...</td>\n",
              "      <td>7483.79</td>\n",
              "      <td>5.0</td>\n",
              "      <td>47</td>\n",
              "      <td>7.0</td>\n",
              "      <td>https://www.tripadvisor.com.ph/AttractionProdu...</td>\n",
              "      <td>Thanks again to the amazing staff Sean (Lead T...</td>\n",
              "      <td>Tours</td>\n",
              "    </tr>\n",
              "    <tr>\n",
              "      <th>3</th>\n",
              "      <td>Luzon</td>\n",
              "      <td>Palawan</td>\n",
              "      <td>Ziplining</td>\n",
              "      <td>3-in-1 Adventure: Underground River, Zipline r...</td>\n",
              "      <td>Get the most out of your trip to the world-fam...</td>\n",
              "      <td>4029.73</td>\n",
              "      <td>4.5</td>\n",
              "      <td>9</td>\n",
              "      <td>8.0</td>\n",
              "      <td>https://www.tripadvisor.com.ph/AttractionProdu...</td>\n",
              "      <td>Get the most out of your trip to the world-fam...</td>\n",
              "      <td>Outdoor Activities</td>\n",
              "    </tr>\n",
              "    <tr>\n",
              "      <th>4</th>\n",
              "      <td>Luzon</td>\n",
              "      <td>Palawan</td>\n",
              "      <td>Day Trips</td>\n",
              "      <td>El Nido Island Hopping Day Tour from Puerto Pr...</td>\n",
              "      <td>Enjoy an island hopping experience in El Nido ...</td>\n",
              "      <td>11455.96</td>\n",
              "      <td>5.0</td>\n",
              "      <td>1</td>\n",
              "      <td>18.0</td>\n",
              "      <td>https://www.tripadvisor.com.ph/AttractionProdu...</td>\n",
              "      <td>Enjoy an island hopping experience in El Nido ...</td>\n",
              "      <td>Tours</td>\n",
              "    </tr>\n",
              "  </tbody>\n",
              "</table>\n",
              "</div>"
            ],
            "text/plain": [
              "    region      location    activity   \n",
              "0    Luzon       Palawan   Day Trips  \\\n",
              "1  Visayas          Cebu  Snorkeling   \n",
              "2    Luzon  Metro Manila   Day Trips   \n",
              "3    Luzon       Palawan   Ziplining   \n",
              "4    Luzon       Palawan   Day Trips   \n",
              "\n",
              "                                               title   \n",
              "0  Underground River Day Trips from Puerto Prince...  \\\n",
              "1  Whale Shark Encounter and Sumilon Sandbar with...   \n",
              "2  Amazing Manila - Tagaytay Full Day Sightseeing...   \n",
              "3  3-in-1 Adventure: Underground River, Zipline r...   \n",
              "4  El Nido Island Hopping Day Tour from Puerto Pr...   \n",
              "\n",
              "                                         description     price  rating   \n",
              "0  Discover Puerto Princesa Subterranean River Na...   2820.81     4.5  \\\n",
              "1  An amazing experience. It was a very long day,...   8922.98     4.5   \n",
              "2  Thanks again to the amazing staff Sean (Lead T...   7483.79     5.0   \n",
              "3  Get the most out of your trip to the world-fam...   4029.73     4.5   \n",
              "4  Enjoy an island hopping experience in El Nido ...  11455.96     5.0   \n",
              "\n",
              "  review_count  duration                                                url   \n",
              "0          104       6.0  https://www.tripadvisor.com.ph/AttractionProdu...  \\\n",
              "1           83       6.0  https://www.tripadvisor.com.ph/AttractionProdu...   \n",
              "2           47       7.0  https://www.tripadvisor.com.ph/AttractionProdu...   \n",
              "3            9       8.0  https://www.tripadvisor.com.ph/AttractionProdu...   \n",
              "4            1      18.0  https://www.tripadvisor.com.ph/AttractionProdu...   \n",
              "\n",
              "                                   description_clean             general  \n",
              "0  Discover Puerto Princesa Subterranean River Na...               Tours  \n",
              "1  An amazing experience. It was a very long day,...    Water Activities  \n",
              "2  Thanks again to the amazing staff Sean (Lead T...               Tours  \n",
              "3  Get the most out of your trip to the world-fam...  Outdoor Activities  \n",
              "4  Enjoy an island hopping experience in El Nido ...               Tours  "
            ]
          },
          "execution_count": 29,
          "metadata": {},
          "output_type": "execute_result"
        }
      ],
      "source": [
        "luzvis_df = df[df['region'] != 'Mindanao']\n",
        "print(luzvis_df.shape)\n",
        "luzvis_df.head()"
      ]
    },
    {
      "cell_type": "markdown",
      "id": "b4767c40-210e-421b-944b-05f7942b86a2",
      "metadata": {
        "id": "b4767c40-210e-421b-944b-05f7942b86a2"
      },
      "source": [
        "## User Input"
      ]
    },
    {
      "cell_type": "code",
      "execution_count": null,
      "id": "5aa04c5c-b619-4807-adc1-ed16fad1e38a",
      "metadata": {
        "id": "5aa04c5c-b619-4807-adc1-ed16fad1e38a"
      },
      "outputs": [],
      "source": [
        "destination = 'Cebu'"
      ]
    },
    {
      "cell_type": "code",
      "execution_count": null,
      "id": "65b59b50-3353-419e-891f-3e2f164c8be9",
      "metadata": {
        "id": "65b59b50-3353-419e-891f-3e2f164c8be9"
      },
      "outputs": [],
      "source": [
        "activity = 'Boat tours'"
      ]
    },
    {
      "cell_type": "code",
      "execution_count": null,
      "id": "e6885388-d222-4102-9dcc-10301b552c5d",
      "metadata": {
        "id": "e6885388-d222-4102-9dcc-10301b552c5d"
      },
      "outputs": [],
      "source": [
        "budget = 5000"
      ]
    },
    {
      "cell_type": "markdown",
      "id": "14f74f6e-a60f-4506-8170-cd802ea1e84a",
      "metadata": {
        "id": "14f74f6e-a60f-4506-8170-cd802ea1e84a"
      },
      "source": [
        "*Determine General Activity of user input*"
      ]
    },
    {
      "cell_type": "code",
      "execution_count": null,
      "id": "fefccdd8-ccd2-4432-b424-dcb6aa8db0ac",
      "metadata": {
        "id": "fefccdd8-ccd2-4432-b424-dcb6aa8db0ac",
        "outputId": "3199b4a8-62a4-4b21-b7a0-b30e89e63a70"
      },
      "outputs": [
        {
          "data": {
            "text/html": [
              "<div>\n",
              "<style scoped>\n",
              "    .dataframe tbody tr th:only-of-type {\n",
              "        vertical-align: middle;\n",
              "    }\n",
              "\n",
              "    .dataframe tbody tr th {\n",
              "        vertical-align: top;\n",
              "    }\n",
              "\n",
              "    .dataframe thead th {\n",
              "        text-align: right;\n",
              "    }\n",
              "</style>\n",
              "<table border=\"1\" class=\"dataframe\">\n",
              "  <thead>\n",
              "    <tr style=\"text-align: right;\">\n",
              "      <th></th>\n",
              "      <th>activity</th>\n",
              "      <th>general</th>\n",
              "    </tr>\n",
              "  </thead>\n",
              "  <tbody>\n",
              "    <tr>\n",
              "      <th>0</th>\n",
              "      <td>Canyoneering</td>\n",
              "      <td>Outdoor Activities</td>\n",
              "    </tr>\n",
              "    <tr>\n",
              "      <th>1</th>\n",
              "      <td>Rock climbing</td>\n",
              "      <td>Outdoor Activities</td>\n",
              "    </tr>\n",
              "    <tr>\n",
              "      <th>2</th>\n",
              "      <td>Scooter rentals</td>\n",
              "      <td>Outdoor Activities</td>\n",
              "    </tr>\n",
              "    <tr>\n",
              "      <th>3</th>\n",
              "      <td>ATV</td>\n",
              "      <td>Outdoor Activities</td>\n",
              "    </tr>\n",
              "    <tr>\n",
              "      <th>4</th>\n",
              "      <td>Gliding</td>\n",
              "      <td>Outdoor Activities</td>\n",
              "    </tr>\n",
              "  </tbody>\n",
              "</table>\n",
              "</div>"
            ],
            "text/plain": [
              "          activity             general\n",
              "0     Canyoneering  Outdoor Activities\n",
              "1    Rock climbing  Outdoor Activities\n",
              "2  Scooter rentals  Outdoor Activities\n",
              "3              ATV  Outdoor Activities\n",
              "4          Gliding  Outdoor Activities"
            ]
          },
          "execution_count": 33,
          "metadata": {},
          "output_type": "execute_result"
        }
      ],
      "source": [
        "act_df = pd.read_csv('act.csv', encoding=\"ISO-8859-1\")\n",
        "act_df.head()"
      ]
    },
    {
      "cell_type": "code",
      "execution_count": null,
      "id": "e286c589-3487-4844-9e16-b01b2840eac6",
      "metadata": {
        "id": "e286c589-3487-4844-9e16-b01b2840eac6",
        "outputId": "3c243f33-cb69-4bbd-e6c4-32955a84f3c0"
      },
      "outputs": [
        {
          "data": {
            "text/plain": [
              "['Tours']"
            ]
          },
          "execution_count": 34,
          "metadata": {},
          "output_type": "execute_result"
        }
      ],
      "source": [
        "gen_act = act_df.loc[act_df['activity'] == activity, 'general']\n",
        "gen_act = gen_act.tolist()\n",
        "gen_act"
      ]
    },
    {
      "cell_type": "code",
      "execution_count": null,
      "id": "208aba82-7318-4e9b-af2e-9b7f1e07a320",
      "metadata": {
        "id": "208aba82-7318-4e9b-af2e-9b7f1e07a320",
        "outputId": "833c350e-68a2-462f-f939-fbbc92756fa8"
      },
      "outputs": [
        {
          "data": {
            "text/plain": [
              "'Tours'"
            ]
          },
          "execution_count": 35,
          "metadata": {},
          "output_type": "execute_result"
        }
      ],
      "source": [
        "gen_act = ''.join(gen_act)\n",
        "gen_act"
      ]
    },
    {
      "cell_type": "markdown",
      "id": "16b1ed07-9cb9-4a97-bfba-6e898e614327",
      "metadata": {
        "id": "16b1ed07-9cb9-4a97-bfba-6e898e614327"
      },
      "source": [
        "<br>\n",
        "<br>\n",
        "\n",
        "**Recommender Engine**"
      ]
    },
    {
      "cell_type": "code",
      "execution_count": null,
      "id": "f57f6d5a-9452-4494-bbf2-50be1f6cb420",
      "metadata": {
        "id": "f57f6d5a-9452-4494-bbf2-50be1f6cb420",
        "outputId": "6e8184bf-28be-487f-a9a9-c4bdc77445b8"
      },
      "outputs": [
        {
          "name": "stdout",
          "output_type": "stream",
          "text": [
            "CPU times: total: 25.7 s\n",
            "Wall time: 41.2 s\n"
          ]
        },
        {
          "data": {
            "text/html": [
              "<div>\n",
              "<style scoped>\n",
              "    .dataframe tbody tr th:only-of-type {\n",
              "        vertical-align: middle;\n",
              "    }\n",
              "\n",
              "    .dataframe tbody tr th {\n",
              "        vertical-align: top;\n",
              "    }\n",
              "\n",
              "    .dataframe thead th {\n",
              "        text-align: right;\n",
              "    }\n",
              "</style>\n",
              "<table border=\"1\" class=\"dataframe\">\n",
              "  <thead>\n",
              "    <tr style=\"text-align: right;\">\n",
              "      <th></th>\n",
              "      <th>region</th>\n",
              "      <th>location</th>\n",
              "      <th>activity</th>\n",
              "      <th>title</th>\n",
              "      <th>description</th>\n",
              "      <th>price</th>\n",
              "      <th>rating</th>\n",
              "      <th>review_count</th>\n",
              "      <th>duration</th>\n",
              "      <th>url</th>\n",
              "      <th>description_clean</th>\n",
              "      <th>general</th>\n",
              "      <th>activity_score</th>\n",
              "      <th>des_score</th>\n",
              "      <th>average_sim</th>\n",
              "    </tr>\n",
              "  </thead>\n",
              "  <tbody>\n",
              "    <tr>\n",
              "      <th>604</th>\n",
              "      <td>Mindanao</td>\n",
              "      <td>Surigao del Norte</td>\n",
              "      <td>Boat tours</td>\n",
              "      <td>Siargao Island Hopping</td>\n",
              "      <td>Can't believe how crap this tour was. So borin...</td>\n",
              "      <td>3334.08</td>\n",
              "      <td>3.5</td>\n",
              "      <td>3</td>\n",
              "      <td>4.0</td>\n",
              "      <td>https://www.tripadvisor.com.ph/AttractionProdu...</td>\n",
              "      <td>Can't believe how crap this tour was. So borin...</td>\n",
              "      <td>Tours</td>\n",
              "      <td>1.000000</td>\n",
              "      <td>0.909698</td>\n",
              "      <td>0.954849</td>\n",
              "    </tr>\n",
              "    <tr>\n",
              "      <th>878</th>\n",
              "      <td>Mindanao</td>\n",
              "      <td>Siargao</td>\n",
              "      <td>Day trips</td>\n",
              "      <td>Sohoton-Bucas Grande Tour in Siargao</td>\n",
              "      <td>Have the ultimate beach day in the Philippines...</td>\n",
              "      <td>3000.00</td>\n",
              "      <td>3.0</td>\n",
              "      <td>84</td>\n",
              "      <td>24.0</td>\n",
              "      <td>https://www.klook.com/en-PH/activity/78141-soh...</td>\n",
              "      <td>Have the ultimate beach day in the Philippines...</td>\n",
              "      <td>Tours</td>\n",
              "      <td>0.467950</td>\n",
              "      <td>0.968028</td>\n",
              "      <td>0.717989</td>\n",
              "    </tr>\n",
              "    <tr>\n",
              "      <th>899</th>\n",
              "      <td>Mindanao</td>\n",
              "      <td>Davao</td>\n",
              "      <td>Day trips</td>\n",
              "      <td>Samal Island Tour in Davao</td>\n",
              "      <td>Explore unique beaches and attractions of Sama...</td>\n",
              "      <td>2450.00</td>\n",
              "      <td>5.0</td>\n",
              "      <td>137</td>\n",
              "      <td>24.0</td>\n",
              "      <td>https://www.klook.com/en-PH/activity/79805-sam...</td>\n",
              "      <td>Explore unique beaches and attractions of Sama...</td>\n",
              "      <td>Tours</td>\n",
              "      <td>0.467950</td>\n",
              "      <td>0.934903</td>\n",
              "      <td>0.701426</td>\n",
              "    </tr>\n",
              "    <tr>\n",
              "      <th>977</th>\n",
              "      <td>Mindanao</td>\n",
              "      <td>Davao</td>\n",
              "      <td>Day trips</td>\n",
              "      <td>Highlands Tour in Davao</td>\n",
              "      <td>Enjoy breathtaking views in Davao with this 1 ...</td>\n",
              "      <td>2050.00</td>\n",
              "      <td>3.0</td>\n",
              "      <td>0</td>\n",
              "      <td>24.0</td>\n",
              "      <td>https://www.klook.com/en-PH/activity/79893-hig...</td>\n",
              "      <td>Enjoy breathtaking views in Davao with this 1 ...</td>\n",
              "      <td>Tours</td>\n",
              "      <td>0.467950</td>\n",
              "      <td>0.933663</td>\n",
              "      <td>0.700807</td>\n",
              "    </tr>\n",
              "    <tr>\n",
              "      <th>608</th>\n",
              "      <td>Mindanao</td>\n",
              "      <td>Surigao del Norte</td>\n",
              "      <td>multi-Day Tours</td>\n",
              "      <td>3 Islands, Secret beach and Coral Garden Full-...</td>\n",
              "      <td>Naked island Siargao, Guyam island and Daku is...</td>\n",
              "      <td>3161.63</td>\n",
              "      <td>4.5</td>\n",
              "      <td>8</td>\n",
              "      <td>6.0</td>\n",
              "      <td>https://www.tripadvisor.com.ph/AttractionProdu...</td>\n",
              "      <td>Naked island Siargao, Guyam island and Daku is...</td>\n",
              "      <td>Tours</td>\n",
              "      <td>0.432601</td>\n",
              "      <td>0.958438</td>\n",
              "      <td>0.695519</td>\n",
              "    </tr>\n",
              "  </tbody>\n",
              "</table>\n",
              "</div>"
            ],
            "text/plain": [
              "       region           location         activity   \n",
              "604  Mindanao  Surigao del Norte       Boat tours  \\\n",
              "878  Mindanao            Siargao        Day trips   \n",
              "899  Mindanao              Davao        Day trips   \n",
              "977  Mindanao              Davao        Day trips   \n",
              "608  Mindanao  Surigao del Norte  multi-Day Tours   \n",
              "\n",
              "                                                 title   \n",
              "604                             Siargao Island Hopping  \\\n",
              "878               Sohoton-Bucas Grande Tour in Siargao   \n",
              "899                         Samal Island Tour in Davao   \n",
              "977                            Highlands Tour in Davao   \n",
              "608  3 Islands, Secret beach and Coral Garden Full-...   \n",
              "\n",
              "                                           description    price  rating   \n",
              "604  Can't believe how crap this tour was. So borin...  3334.08     3.5  \\\n",
              "878  Have the ultimate beach day in the Philippines...  3000.00     3.0   \n",
              "899  Explore unique beaches and attractions of Sama...  2450.00     5.0   \n",
              "977  Enjoy breathtaking views in Davao with this 1 ...  2050.00     3.0   \n",
              "608  Naked island Siargao, Guyam island and Daku is...  3161.63     4.5   \n",
              "\n",
              "    review_count  duration                                                url   \n",
              "604            3       4.0  https://www.tripadvisor.com.ph/AttractionProdu...  \\\n",
              "878           84      24.0  https://www.klook.com/en-PH/activity/78141-soh...   \n",
              "899          137      24.0  https://www.klook.com/en-PH/activity/79805-sam...   \n",
              "977            0      24.0  https://www.klook.com/en-PH/activity/79893-hig...   \n",
              "608            8       6.0  https://www.tripadvisor.com.ph/AttractionProdu...   \n",
              "\n",
              "                                     description_clean general   \n",
              "604  Can't believe how crap this tour was. So borin...   Tours  \\\n",
              "878  Have the ultimate beach day in the Philippines...   Tours   \n",
              "899  Explore unique beaches and attractions of Sama...   Tours   \n",
              "977  Enjoy breathtaking views in Davao with this 1 ...   Tours   \n",
              "608  Naked island Siargao, Guyam island and Daku is...   Tours   \n",
              "\n",
              "     activity_score  des_score  average_sim  \n",
              "604        1.000000   0.909698     0.954849  \n",
              "878        0.467950   0.968028     0.717989  \n",
              "899        0.467950   0.934903     0.701426  \n",
              "977        0.467950   0.933663     0.700807  \n",
              "608        0.432601   0.958438     0.695519  "
            ]
          },
          "execution_count": 39,
          "metadata": {},
          "output_type": "execute_result"
        }
      ],
      "source": [
        "%%time\n",
        "\n",
        "# get all rows with destination = user input and general = gen_act\n",
        "des_user_df = luzvis_df[(luzvis_df['location'] == destination) & (luzvis_df['general'] == 'Tours')]\n",
        "    \n",
        "# combine clean descriptions\n",
        "concat_desc = ' '.join(des_user_df['description_clean'])\n",
        "\n",
        "#filter based on budget\n",
        "tours_df = tours_df[tours_df['price'] <= budget]\n",
        "water_df = water_df[water_df['price'] <= budget]\n",
        "outdoor_df = outdoor_df[outdoor_df['price'] <= budget]\n",
        "rec_df = rec_df[rec_df['price'] <= budget]\n",
        "\n",
        "\n",
        "#if else statement for different generic activities, similiarity of activity & destination\n",
        "if gen_act == 'Tours':\n",
        "    tours_df['activity_score'] = [nlp(activity).similarity(nlp(text)) for text in tours_df['activity']]\n",
        "    tours_df['des_score'] = [nlp(concat_desc).similarity(nlp(text)) for text in tours_df['description_clean']]\n",
        "    reco_df = tours_df.sort_values(by='activity_score', ascending=False)\n",
        "elif  gen_act == 'Water Activities':\n",
        "    water_df['activity_score'] = [nlp(activity).similarity(nlp(text)) for text in water_df['activity']]\n",
        "    water_df['des_score'] = [nlp(concat_desc).similarity(nlp(text)) for text in water_df['description_clean']]\n",
        "    reco_df = water_df.sort_values(by='activity_score', ascending=False)\n",
        "elif  gen_act == 'Outdoor Activities':\n",
        "    outdoor_df['activity_score'] = [nlp(activity).similarity(nlp(text)) for text in outdoor_df['activity']]\n",
        "    outdoor_df['des_score'] = [nlp(concat_desc).similarity(nlp(text)) for text in outdoor_df['description_clean']]\n",
        "    reco_df = outdoor_df.sort_values(by='activity_score', ascending=False)\n",
        "else:\n",
        "    rec_df['activity_score'] = [nlp(activity).similarity(nlp(text)) for text in rec_df['activity']]\n",
        "    rec_df['des_score'] = [nlp(concat_desc).similarity(nlp(text)) for text in rec_df['description_clean']]\n",
        "    reco_df = rec_df.sort_values(by='activity_score', ascending=False)   \n",
        "    \n",
        "    \n",
        "# Get the average of both activity_score and des_score\n",
        "reco_df['average_sim'] = reco_df[['activity_score', 'des_score']].mean(axis=1)\n",
        "\n",
        "#filter based on budget\n",
        "#reco_df = reco_df[reco_df['price'] <= 5000]\n",
        "\n",
        "#Get top recommendations\n",
        "top_reco = reco_df.sort_values('average_sim', ascending=False).head(5)\n",
        "\n",
        "import time\n",
        "time.sleep(2)\n",
        "\n",
        "top_reco\n"
      ]
    }
  ],
  "metadata": {
    "kernelspec": {
      "display_name": "eskwelabsvenv",
      "language": "python",
      "name": "eskwelabsvenv"
    },
    "language_info": {
      "codemirror_mode": {
        "name": "ipython",
        "version": 3
      },
      "file_extension": ".py",
      "mimetype": "text/x-python",
      "name": "python",
      "nbconvert_exporter": "python",
      "pygments_lexer": "ipython3",
      "version": "3.9.0"
    },
    "colab": {
      "provenance": []
    }
  },
  "nbformat": 4,
  "nbformat_minor": 5
}